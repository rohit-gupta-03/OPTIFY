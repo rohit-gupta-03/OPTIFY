{
 "cells": [
  {
   "cell_type": "markdown",
   "id": "4093b168",
   "metadata": {
    "papermill": {
     "duration": 0.003777,
     "end_time": "2024-07-10T10:25:01.329392",
     "exception": false,
     "start_time": "2024-07-10T10:25:01.325615",
     "status": "completed"
    },
    "tags": []
   },
   "source": [
    "# Employee Attrition Analysis and Prediction"
   ]
  },
  {
   "cell_type": "code",
   "execution_count": 1,
   "id": "c66705ea",
   "metadata": {
    "papermill": {
     "duration": 0.017884,
     "end_time": "2024-07-10T10:25:01.350759",
     "exception": false,
     "start_time": "2024-07-10T10:25:01.332875",
     "status": "completed"
    },
    "tags": []
   },
   "outputs": [],
   "source": [
    "import warnings\n",
    "warnings.filterwarnings('ignore')"
   ]
  },
  {
   "cell_type": "code",
   "execution_count": 3,
   "id": "e85d3edb-db5f-42b1-8846-9a442991c818",
   "metadata": {
    "papermill": {
     "duration": 2.563785,
     "end_time": "2024-07-10T10:25:03.917993",
     "exception": false,
     "start_time": "2024-07-10T10:25:01.354208",
     "status": "completed"
    },
    "tags": []
   },
   "outputs": [],
   "source": [
    "# Import necessary libraries\n",
    "import pandas as pd\n",
    "import numpy as np\n",
    "import seaborn as sns\n",
    "import matplotlib.pyplot as plt\n",
    "from sklearn.model_selection import train_test_split\n",
    "from sklearn.preprocessing import StandardScaler\n",
    "from sklearn.linear_model import LogisticRegression\n",
    "from sklearn.metrics import accuracy_score, confusion_matrix, classification_report"
   ]
  },
  {
   "cell_type": "code",
   "execution_count": 4,
   "id": "6401b40e-35a3-42e9-ad69-7d9d09e4d4e2",
   "metadata": {
    "papermill": {
     "duration": 2.563785,
     "end_time": "2024-07-10T10:25:03.917993",
     "exception": false,
     "start_time": "2024-07-10T10:25:01.354208",
     "status": "completed"
    },
    "tags": []
   },
   "outputs": [
    {
     "data": {
      "text/html": [
       "<div>\n",
       "<style scoped>\n",
       "    .dataframe tbody tr th:only-of-type {\n",
       "        vertical-align: middle;\n",
       "    }\n",
       "\n",
       "    .dataframe tbody tr th {\n",
       "        vertical-align: top;\n",
       "    }\n",
       "\n",
       "    .dataframe thead th {\n",
       "        text-align: right;\n",
       "    }\n",
       "</style>\n",
       "<table border=\"1\" class=\"dataframe\">\n",
       "  <thead>\n",
       "    <tr style=\"text-align: right;\">\n",
       "      <th></th>\n",
       "      <th>Employee_ID</th>\n",
       "      <th>Age</th>\n",
       "      <th>Gender</th>\n",
       "      <th>Department</th>\n",
       "      <th>Job_Title</th>\n",
       "      <th>Years_at_Company</th>\n",
       "      <th>Satisfaction_Level</th>\n",
       "      <th>Average_Monthly_Hours</th>\n",
       "      <th>Promotion_Last_5Years</th>\n",
       "      <th>Salary</th>\n",
       "      <th>Attrition</th>\n",
       "    </tr>\n",
       "  </thead>\n",
       "  <tbody>\n",
       "    <tr>\n",
       "      <th>0</th>\n",
       "      <td>0</td>\n",
       "      <td>27</td>\n",
       "      <td>Male</td>\n",
       "      <td>Marketing</td>\n",
       "      <td>Manager</td>\n",
       "      <td>9</td>\n",
       "      <td>0.586251</td>\n",
       "      <td>151</td>\n",
       "      <td>0</td>\n",
       "      <td>60132</td>\n",
       "      <td>0</td>\n",
       "    </tr>\n",
       "    <tr>\n",
       "      <th>1</th>\n",
       "      <td>1</td>\n",
       "      <td>53</td>\n",
       "      <td>Female</td>\n",
       "      <td>Sales</td>\n",
       "      <td>Engineer</td>\n",
       "      <td>10</td>\n",
       "      <td>0.261161</td>\n",
       "      <td>221</td>\n",
       "      <td>1</td>\n",
       "      <td>79947</td>\n",
       "      <td>0</td>\n",
       "    </tr>\n",
       "    <tr>\n",
       "      <th>2</th>\n",
       "      <td>2</td>\n",
       "      <td>59</td>\n",
       "      <td>Female</td>\n",
       "      <td>Marketing</td>\n",
       "      <td>Analyst</td>\n",
       "      <td>8</td>\n",
       "      <td>0.304382</td>\n",
       "      <td>184</td>\n",
       "      <td>0</td>\n",
       "      <td>46958</td>\n",
       "      <td>1</td>\n",
       "    </tr>\n",
       "    <tr>\n",
       "      <th>3</th>\n",
       "      <td>3</td>\n",
       "      <td>42</td>\n",
       "      <td>Female</td>\n",
       "      <td>Engineering</td>\n",
       "      <td>Manager</td>\n",
       "      <td>1</td>\n",
       "      <td>0.480779</td>\n",
       "      <td>242</td>\n",
       "      <td>0</td>\n",
       "      <td>40662</td>\n",
       "      <td>0</td>\n",
       "    </tr>\n",
       "    <tr>\n",
       "      <th>4</th>\n",
       "      <td>4</td>\n",
       "      <td>44</td>\n",
       "      <td>Female</td>\n",
       "      <td>Sales</td>\n",
       "      <td>Engineer</td>\n",
       "      <td>10</td>\n",
       "      <td>0.636244</td>\n",
       "      <td>229</td>\n",
       "      <td>1</td>\n",
       "      <td>74307</td>\n",
       "      <td>0</td>\n",
       "    </tr>\n",
       "  </tbody>\n",
       "</table>\n",
       "</div>"
      ],
      "text/plain": [
       "   Employee_ID  Age  Gender   Department Job_Title  Years_at_Company  \\\n",
       "0            0   27    Male    Marketing   Manager                 9   \n",
       "1            1   53  Female        Sales  Engineer                10   \n",
       "2            2   59  Female    Marketing   Analyst                 8   \n",
       "3            3   42  Female  Engineering   Manager                 1   \n",
       "4            4   44  Female        Sales  Engineer                10   \n",
       "\n",
       "   Satisfaction_Level  Average_Monthly_Hours  Promotion_Last_5Years  Salary  \\\n",
       "0            0.586251                    151                      0   60132   \n",
       "1            0.261161                    221                      1   79947   \n",
       "2            0.304382                    184                      0   46958   \n",
       "3            0.480779                    242                      0   40662   \n",
       "4            0.636244                    229                      1   74307   \n",
       "\n",
       "   Attrition  \n",
       "0          0  \n",
       "1          0  \n",
       "2          1  \n",
       "3          0  \n",
       "4          0  "
      ]
     },
     "execution_count": 4,
     "metadata": {},
     "output_type": "execute_result"
    }
   ],
   "source": [
    "# Load the dataset\n",
    "df = pd.read_csv('employee_attrition_data.csv')\n",
    "\n",
    "# Display the first few rows of the dataset\n",
    "df.head()"
   ]
  },
  {
   "cell_type": "code",
   "execution_count": null,
   "id": "0c710ab0-aebb-4782-81c8-dba7ad09ac56",
   "metadata": {
    "papermill": {
     "duration": 2.563785,
     "end_time": "2024-07-10T10:25:03.917993",
     "exception": false,
     "start_time": "2024-07-10T10:25:01.354208",
     "status": "completed"
    },
    "tags": []
   },
   "outputs": [],
   "source": []
  },
  {
   "cell_type": "markdown",
   "id": "49ab0fd1",
   "metadata": {
    "papermill": {
     "duration": 0.003453,
     "end_time": "2024-07-10T10:25:03.925424",
     "exception": false,
     "start_time": "2024-07-10T10:25:03.921971",
     "status": "completed"
    },
    "tags": []
   },
   "source": [
    "## Data Exploration\n",
    "\n",
    "Let's start by exploring the dataset to understand its structure and the relationships between different variables."
   ]
  },
  {
   "cell_type": "code",
   "execution_count": 5,
   "id": "f553c0d4",
   "metadata": {
    "papermill": {
     "duration": 0.029689,
     "end_time": "2024-07-10T10:25:03.958790",
     "exception": false,
     "start_time": "2024-07-10T10:25:03.929101",
     "status": "completed"
    },
    "tags": []
   },
   "outputs": [
    {
     "name": "stdout",
     "output_type": "stream",
     "text": [
      "<class 'pandas.core.frame.DataFrame'>\n",
      "RangeIndex: 1000 entries, 0 to 999\n",
      "Data columns (total 11 columns):\n",
      " #   Column                 Non-Null Count  Dtype  \n",
      "---  ------                 --------------  -----  \n",
      " 0   Employee_ID            1000 non-null   int64  \n",
      " 1   Age                    1000 non-null   int64  \n",
      " 2   Gender                 1000 non-null   object \n",
      " 3   Department             1000 non-null   object \n",
      " 4   Job_Title              1000 non-null   object \n",
      " 5   Years_at_Company       1000 non-null   int64  \n",
      " 6   Satisfaction_Level     1000 non-null   float64\n",
      " 7   Average_Monthly_Hours  1000 non-null   int64  \n",
      " 8   Promotion_Last_5Years  1000 non-null   int64  \n",
      " 9   Salary                 1000 non-null   int64  \n",
      " 10  Attrition              1000 non-null   int64  \n",
      "dtypes: float64(1), int64(7), object(3)\n",
      "memory usage: 86.1+ KB\n"
     ]
    }
   ],
   "source": [
    "# Basic information about the dataset\n",
    "df.info()"
   ]
  },
  {
   "cell_type": "code",
   "execution_count": 6,
   "id": "89adf033",
   "metadata": {
    "papermill": {
     "duration": 0.039832,
     "end_time": "2024-07-10T10:25:04.002556",
     "exception": false,
     "start_time": "2024-07-10T10:25:03.962724",
     "status": "completed"
    },
    "tags": []
   },
   "outputs": [
    {
     "data": {
      "text/html": [
       "<div>\n",
       "<style scoped>\n",
       "    .dataframe tbody tr th:only-of-type {\n",
       "        vertical-align: middle;\n",
       "    }\n",
       "\n",
       "    .dataframe tbody tr th {\n",
       "        vertical-align: top;\n",
       "    }\n",
       "\n",
       "    .dataframe thead th {\n",
       "        text-align: right;\n",
       "    }\n",
       "</style>\n",
       "<table border=\"1\" class=\"dataframe\">\n",
       "  <thead>\n",
       "    <tr style=\"text-align: right;\">\n",
       "      <th></th>\n",
       "      <th>Employee_ID</th>\n",
       "      <th>Age</th>\n",
       "      <th>Years_at_Company</th>\n",
       "      <th>Satisfaction_Level</th>\n",
       "      <th>Average_Monthly_Hours</th>\n",
       "      <th>Promotion_Last_5Years</th>\n",
       "      <th>Salary</th>\n",
       "      <th>Attrition</th>\n",
       "    </tr>\n",
       "  </thead>\n",
       "  <tbody>\n",
       "    <tr>\n",
       "      <th>count</th>\n",
       "      <td>1000.000000</td>\n",
       "      <td>1000.000000</td>\n",
       "      <td>1000.000000</td>\n",
       "      <td>1000.000000</td>\n",
       "      <td>1000.000000</td>\n",
       "      <td>1000.000000</td>\n",
       "      <td>1000.000000</td>\n",
       "      <td>1000.000000</td>\n",
       "    </tr>\n",
       "    <tr>\n",
       "      <th>mean</th>\n",
       "      <td>499.500000</td>\n",
       "      <td>42.205000</td>\n",
       "      <td>5.605000</td>\n",
       "      <td>0.505995</td>\n",
       "      <td>199.493000</td>\n",
       "      <td>0.486000</td>\n",
       "      <td>64624.980000</td>\n",
       "      <td>0.495000</td>\n",
       "    </tr>\n",
       "    <tr>\n",
       "      <th>std</th>\n",
       "      <td>288.819436</td>\n",
       "      <td>10.016452</td>\n",
       "      <td>2.822223</td>\n",
       "      <td>0.289797</td>\n",
       "      <td>29.631908</td>\n",
       "      <td>0.500054</td>\n",
       "      <td>20262.984333</td>\n",
       "      <td>0.500225</td>\n",
       "    </tr>\n",
       "    <tr>\n",
       "      <th>min</th>\n",
       "      <td>0.000000</td>\n",
       "      <td>25.000000</td>\n",
       "      <td>1.000000</td>\n",
       "      <td>0.001376</td>\n",
       "      <td>150.000000</td>\n",
       "      <td>0.000000</td>\n",
       "      <td>30099.000000</td>\n",
       "      <td>0.000000</td>\n",
       "    </tr>\n",
       "    <tr>\n",
       "      <th>25%</th>\n",
       "      <td>249.750000</td>\n",
       "      <td>33.000000</td>\n",
       "      <td>3.000000</td>\n",
       "      <td>0.258866</td>\n",
       "      <td>173.000000</td>\n",
       "      <td>0.000000</td>\n",
       "      <td>47613.500000</td>\n",
       "      <td>0.000000</td>\n",
       "    </tr>\n",
       "    <tr>\n",
       "      <th>50%</th>\n",
       "      <td>499.500000</td>\n",
       "      <td>43.000000</td>\n",
       "      <td>6.000000</td>\n",
       "      <td>0.505675</td>\n",
       "      <td>201.000000</td>\n",
       "      <td>0.000000</td>\n",
       "      <td>64525.000000</td>\n",
       "      <td>0.000000</td>\n",
       "    </tr>\n",
       "    <tr>\n",
       "      <th>75%</th>\n",
       "      <td>749.250000</td>\n",
       "      <td>51.000000</td>\n",
       "      <td>8.000000</td>\n",
       "      <td>0.761135</td>\n",
       "      <td>225.000000</td>\n",
       "      <td>1.000000</td>\n",
       "      <td>81921.000000</td>\n",
       "      <td>1.000000</td>\n",
       "    </tr>\n",
       "    <tr>\n",
       "      <th>max</th>\n",
       "      <td>999.000000</td>\n",
       "      <td>59.000000</td>\n",
       "      <td>10.000000</td>\n",
       "      <td>0.999979</td>\n",
       "      <td>249.000000</td>\n",
       "      <td>1.000000</td>\n",
       "      <td>99991.000000</td>\n",
       "      <td>1.000000</td>\n",
       "    </tr>\n",
       "  </tbody>\n",
       "</table>\n",
       "</div>"
      ],
      "text/plain": [
       "       Employee_ID          Age  Years_at_Company  Satisfaction_Level  \\\n",
       "count  1000.000000  1000.000000       1000.000000         1000.000000   \n",
       "mean    499.500000    42.205000          5.605000            0.505995   \n",
       "std     288.819436    10.016452          2.822223            0.289797   \n",
       "min       0.000000    25.000000          1.000000            0.001376   \n",
       "25%     249.750000    33.000000          3.000000            0.258866   \n",
       "50%     499.500000    43.000000          6.000000            0.505675   \n",
       "75%     749.250000    51.000000          8.000000            0.761135   \n",
       "max     999.000000    59.000000         10.000000            0.999979   \n",
       "\n",
       "       Average_Monthly_Hours  Promotion_Last_5Years        Salary    Attrition  \n",
       "count            1000.000000            1000.000000   1000.000000  1000.000000  \n",
       "mean              199.493000               0.486000  64624.980000     0.495000  \n",
       "std                29.631908               0.500054  20262.984333     0.500225  \n",
       "min               150.000000               0.000000  30099.000000     0.000000  \n",
       "25%               173.000000               0.000000  47613.500000     0.000000  \n",
       "50%               201.000000               0.000000  64525.000000     0.000000  \n",
       "75%               225.000000               1.000000  81921.000000     1.000000  \n",
       "max               249.000000               1.000000  99991.000000     1.000000  "
      ]
     },
     "execution_count": 6,
     "metadata": {},
     "output_type": "execute_result"
    }
   ],
   "source": [
    "# Summary statistics of the dataset\n",
    "df.describe()"
   ]
  },
  {
   "cell_type": "markdown",
   "id": "77970edb",
   "metadata": {
    "papermill": {
     "duration": 0.003911,
     "end_time": "2024-07-10T10:25:04.010658",
     "exception": false,
     "start_time": "2024-07-10T10:25:04.006747",
     "status": "completed"
    },
    "tags": []
   },
   "source": [
    "### Distribution of Attrition\n",
    "\n",
    "Let's visualize the distribution of the target variable `Attrition`."
   ]
  },
  {
   "cell_type": "code",
   "execution_count": 9,
   "id": "36565abc",
   "metadata": {
    "papermill": {
     "duration": 0.237904,
     "end_time": "2024-07-10T10:25:04.252618",
     "exception": false,
     "start_time": "2024-07-10T10:25:04.014714",
     "status": "completed"
    },
    "tags": []
   },
   "outputs": [
    {
     "data": {
      "image/png": "[encoded data removed]",
      "text/plain": [
       "<Figure size 640x480 with 1 Axes>"
      ]
     },
     "metadata": {},
     "output_type": "display_data"
    }
   ],
   "source": [
    "# Distribution of Attrition\n",
    "sns.countplot(x='Attrition', data=df)\n",
    "plt.title('Distribution of Attrition')\n",
    "plt.show()"
   ]
  },
  {
   "cell_type": "markdown",
   "id": "cdbfe893",
   "metadata": {
    "papermill": {
     "duration": 0.004209,
     "end_time": "2024-07-10T10:25:04.261489",
     "exception": false,
     "start_time": "2024-07-10T10:25:04.257280",
     "status": "completed"
    },
    "tags": []
   },
   "source": [
    "### Correlation Heatmap\n",
    "\n",
    "Let's look at the correlation between numeric variables to see if there are any strong relationships."
   ]
  },
  {
   "cell_type": "code",
   "execution_count": 18,
   "id": "84681d0e",
   "metadata": {
    "papermill": {
     "duration": 0.524496,
     "end_time": "2024-07-10T10:25:04.790367",
     "exception": false,
     "start_time": "2024-07-10T10:25:04.265871",
     "status": "completed"
    },
    "tags": []
   },
   "outputs": [
    {
     "data": {
      "image/png": "[encoded data removed]",
      "text/plain": [
       "<Figure size 1000x800 with 2 Axes>"
      ]
     },
     "metadata": {},
     "output_type": "display_data"
    }
   ],
   "source": [
    "# Correlation heatmap\n",
    "numeric_df = df.select_dtypes(include=[np.number])\n",
    "corr = numeric_df.corr()\n",
    "plt.figure(figsize=(10, 8))\n",
    "sns.heatmap(corr, annot=True, cmap='spring', fmt='.2f',lw=1,linecolor='black')\n",
    "plt.title('Correlation Heatmap')\n",
    "plt.show()"
   ]
  },
  {
   "cell_type": "markdown",
   "id": "ed049cf9",
   "metadata": {
    "papermill": {
     "duration": 0.005581,
     "end_time": "2024-07-10T10:25:04.802013",
     "exception": false,
     "start_time": "2024-07-10T10:25:04.796432",
     "status": "completed"
    },
    "tags": []
   },
   "source": [
    "## Predictive Modeling\n",
    "\n",
    "Based on our exploration, we will now build a predictive model to identify employees who are likely to leave the company."
   ]
  },
  {
   "cell_type": "code",
   "execution_count": 10,
   "id": "b9b81c77",
   "metadata": {
    "papermill": {
     "duration": 0.03229,
     "end_time": "2024-07-10T10:25:04.840152",
     "exception": false,
     "start_time": "2024-07-10T10:25:04.807862",
     "status": "completed"
    },
    "tags": []
   },
   "outputs": [],
   "source": [
    "# Prepare the data for modeling\n",
    "X = df.drop(columns=['Employee_ID', 'Attrition'])\n",
    "y = df['Attrition']\n",
    "\n",
    "# Convert categorical variables to dummy variables\n",
    "X = pd.get_dummies(X, drop_first=True)\n",
    "\n",
    "# Split the data into training and testing sets\n",
    "X_train, X_test, y_train, y_test = train_test_split(X, y, test_size=0.2, random_state=42)\n",
    "\n",
    "# Standardize the features\n",
    "scaler = StandardScaler()\n",
    "X_train = scaler.fit_transform(X_train)\n",
    "X_test = scaler.transform(X_test)"
   ]
  },
  {
   "cell_type": "code",
   "execution_count": 12,
   "id": "e12a2e1f",
   "metadata": {
    "papermill": {
     "duration": 0.046154,
     "end_time": "2024-07-10T10:25:04.892440",
     "exception": false,
     "start_time": "2024-07-10T10:25:04.846286",
     "status": "completed"
    },
    "tags": []
   },
   "outputs": [
    {
     "name": "stdout",
     "output_type": "stream",
     "text": [
      "0.44\n"
     ]
    }
   ],
   "source": [
    "# Train a logistic regression model\n",
    "model = LogisticRegression()\n",
    "model.fit(X_train, y_train)\n",
    "\n",
    "# Make predictions on the test set\n",
    "y_pred = model.predict(X_test)\n",
    "\n",
    "# Evaluate the model\n",
    "accuracy = accuracy_score(y_test, y_pred)\n",
    "conf_matrix = confusion_matrix(y_test, y_pred)\n",
    "class_report = classification_report(y_test, y_pred)\n",
    "\n",
    "print(accuracy)"
   ]
  },
  {
   "cell_type": "code",
   "execution_count": 13,
   "id": "d89f4e82-2234-4711-9984-d256908d64cc",
   "metadata": {},
   "outputs": [
    {
     "name": "stdout",
     "output_type": "stream",
     "text": [
      "[[47 55]\n",
      " [57 41]]\n"
     ]
    }
   ],
   "source": [
    "print(conf_matrix)"
   ]
  },
  {
   "cell_type": "code",
   "execution_count": 14,
   "id": "82a4dd28-48ff-42fb-9ff5-468a6111001f",
   "metadata": {},
   "outputs": [
    {
     "name": "stdout",
     "output_type": "stream",
     "text": [
      "              precision    recall  f1-score   support\n",
      "\n",
      "           0       0.45      0.46      0.46       102\n",
      "           1       0.43      0.42      0.42        98\n",
      "\n",
      "    accuracy                           0.44       200\n",
      "   macro avg       0.44      0.44      0.44       200\n",
      "weighted avg       0.44      0.44      0.44       200\n",
      "\n"
     ]
    }
   ],
   "source": [
    "print(class_report)"
   ]
  },
  {
   "cell_type": "code",
   "execution_count": null,
   "id": "803289aa-2b6b-4f42-82ee-8ccfece053b4",
   "metadata": {},
   "outputs": [],
   "source": []
  }
 ],
 "metadata": {
  "kernelspec": {
   "display_name": "Python 3 (ipykernel)",
   "language": "python",
   "name": "python3"
  },
  "language_info": {
   "codemirror_mode": {
    "name": "ipython",
    "version": 3
   },
   "file_extension": ".py",
   "mimetype": "text/x-python",
   "name": "python",
   "nbconvert_exporter": "python",
   "pygments_lexer": "ipython3",
   "version": "3.12.7"
  },
  "papermill": {
   "default_parameters": {},
   "duration": 7.246112,
   "end_time": "2024-07-10T10:25:05.566023",
   "environment_variables": {},
   "exception": null,
   "input_path": "__notebook__.ipynb",
   "output_path": "__notebook__.ipynb",
   "parameters": {},
   "start_time": "2024-07-10T10:24:58.319911",
   "version": "2.5.0"
  }
 },
 "nbformat": 4,
 "nbformat_minor": 5
}
